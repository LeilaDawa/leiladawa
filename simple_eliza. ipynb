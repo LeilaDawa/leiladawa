{
 "cells": [
  {
   "cell_type": "code",
   "execution_count": 1,
   "metadata": {},
   "outputs": [
    {
     "name": "stdout",
     "output_type": "stream",
     "text": [
      " Good day  welcome to Eliza\n",
      "what is your problem? \n",
      " enter response\n",
      "Enter 'quit' to end the program.Q\n"
     ]
    }
   ],
   "source": [
    "print(\" Good day  welcome to Eliza\\nwhat is your problem? \\n enter response\")\n",
    "prompt= \"Enter 'quit' to end the program.\"\n",
    "\n",
    "while True:\n",
    "    message= input(prompt)\n",
    "    \n",
    "    if message =='Q':\n",
    "        break\n",
    "    elif message=='q':\n",
    "        break\n",
    "    else:\n",
    "        print( message + \"?\")"
   ]
  },
  {
   "cell_type": "code",
   "execution_count": null,
   "metadata": {},
   "outputs": [],
   "source": []
  }
 ],
 "metadata": {
  "kernelspec": {
   "display_name": "Python 3",
   "language": "python",
   "name": "python3"
  },
  "language_info": {
   "codemirror_mode": {
    "name": "ipython",
    "version": 3
   },
   "file_extension": ".py",
   "mimetype": "text/x-python",
   "name": "python",
   "nbconvert_exporter": "python",
   "pygments_lexer": "ipython3",
   "version": "3.7.3"
  }
 },
 "nbformat": 4,
 "nbformat_minor": 2
}
