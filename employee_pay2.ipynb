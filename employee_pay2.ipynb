{
 "cells": [
  {
   "cell_type": "code",
   "execution_count": 1,
   "metadata": {},
   "outputs": [
    {
     "name": "stdout",
     "output_type": "stream",
     "text": [
      "['mary', 'john', 'bob', 'mel', 'jen', 'sue', 'ken', 'dave', 'beth', 'ray']\n"
     ]
    }
   ],
   "source": [
    "\n",
    "# employee pay \n",
    "employee_id = ['001','002','003','004', '006','007','008','009','010']\n",
    "employee = ['mary','john','bob','mel','jen','sue','ken','dave','beth','ray']\n",
    "\n",
    "employee_id = employee\n",
    "employee_id == employee\n",
    "print(employee)\n"
   ]
  },
  {
   "cell_type": "code",
   "execution_count": 2,
   "metadata": {},
   "outputs": [
    {
     "data": {
      "text/plain": [
       "list"
      ]
     },
     "execution_count": 2,
     "metadata": {},
     "output_type": "execute_result"
    }
   ],
   "source": [
    "employee_payrate = [15,22,35,43,17,29,40,20,37,16.5]\n",
    "type(employee_payrate)\n",
    "hrs = [40,25,4,62,33,45,36,17,37,80]\n",
    "type(hrs)"
   ]
  },
  {
   "cell_type": "code",
   "execution_count": 2,
   "metadata": {},
   "outputs": [
    {
     "ename": "SyntaxError",
     "evalue": "invalid syntax (<ipython-input-2-34cccef120f8>, line 6)",
     "output_type": "error",
     "traceback": [
      "\u001b[0;36m  File \u001b[0;32m\"<ipython-input-2-34cccef120f8>\"\u001b[0;36m, line \u001b[0;32m6\u001b[0m\n\u001b[0;31m    elif: hr > 40 :\u001b[0m\n\u001b[0m        ^\u001b[0m\n\u001b[0;31mSyntaxError\u001b[0m\u001b[0;31m:\u001b[0m invalid syntax\n"
     ]
    }
   ],
   "source": [
    "\n",
    "\n",
    "def pay(OTH):\n",
    "    \n",
    "    for hr in hrs:\n",
    "        if hr < 40:\n",
    "            print(\"no ot\")\n",
    "        elif: hr > 40 :\n",
    "            print(\"ot\")\n",
    "        else:\n",
    "            break\n",
    "        \n",
    "    \n",
    "    "
   ]
  },
  {
   "cell_type": "code",
   "execution_count": null,
   "metadata": {},
   "outputs": [],
   "source": []
  },
  {
   "cell_type": "code",
   "execution_count": null,
   "metadata": {},
   "outputs": [],
   "source": []
  }
 ],
 "metadata": {
  "kernelspec": {
   "display_name": "Python 3",
   "language": "python",
   "name": "python3"
  },
  "language_info": {
   "codemirror_mode": {
    "name": "ipython",
    "version": 3
   },
   "file_extension": ".py",
   "mimetype": "text/x-python",
   "name": "python",
   "nbconvert_exporter": "python",
   "pygments_lexer": "ipython3",
   "version": "3.7.3"
  }
 },
 "nbformat": 4,
 "nbformat_minor": 2
}
