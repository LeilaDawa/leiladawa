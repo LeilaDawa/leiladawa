{
 "cells": [
  {
   "cell_type": "code",
   "execution_count": 15,
   "metadata": {},
   "outputs": [
    {
     "name": "stdout",
     "output_type": "stream",
     "text": [
      "  employee_id employee_name  employee_payrate  hrs\n",
      "0         001          Mary              15.0   40\n",
      "1         002          John              22.0   25\n",
      "2         003           Bob              35.0    4\n",
      "3         004           Mel              43.0   62\n",
      "4         005           Jen              17.0   33\n",
      "5         006           Sue              29.0   45\n",
      "6         007           Ken              40.0   36\n",
      "7         008          Dave              20.0   17\n",
      "8         009          Beth              37.0   37\n",
      "9         010           Ray              16.5   80\n"
     ]
    }
   ],
   "source": [
    "import pandas as pd\n",
    "import numpy as np\n",
    "\n",
    "employee_id=['001','002','003','004','005','006','007','008','009','010']\n",
    "employee_name=['Mary','John','Bob','Mel','Jen','Sue','Ken','Dave','Beth','Ray']\n",
    "employee_payrate=[15.00,22.0,35.00,43.00,17.00,29.00,40.00,20.00,37.00,16.50]\n",
    "hrs=[40,25,4,62,33,45,36,17,37,80]\n",
    "employee_data=list(zip(employee_id,employee_name,employee_payrate,hrs ))\n",
    "\n",
    "df_employee=pd.DataFrame(data=employee_Data, columns=['employee_id','employee_name','employee_payrate', 'hrs'])\n",
    "print(df_employee)\n"
   ]
  },
  {
   "cell_type": "code",
   "execution_count": 21,
   "metadata": {},
   "outputs": [
    {
     "name": "stdout",
     "output_type": "stream",
     "text": [
      "010 Ray 1650.0\n"
     ]
    }
   ],
   "source": [
    "for i in range (0,10):\n",
    "        if hrs[i]>40:\n",
    "            ot=hrs[i]-40\n",
    "            otpay=ot*1.5*employee_payrate[i]\n",
    "            salery=40*employee_payrate[i]+otpay\n",
    "        elif hrs[i]<40:\n",
    "             salery=hrs[i]*employee_payrate[i] \n",
    "print(employee_id[i],employee_name[i],salery)"
   ]
  },
  {
   "cell_type": "code",
   "execution_count": 24,
   "metadata": {},
   "outputs": [
    {
     "name": "stdout",
     "output_type": "stream",
     "text": [
      "009 Beth 1369.0\n"
     ]
    }
   ],
   "source": [
    "for i in range (0,9):\n",
    "        if hrs[i]>40:\n",
    "            ot=hrs[i]-40\n",
    "            otpay=ot*1.5*employee_payrate[i]\n",
    "            salery=40*employee_payrate[i]+otpay\n",
    "        elif hrs[i]<40:\n",
    "             salery=hrs[i]*employee_payrate[i] \n",
    "print(employee_id[i],employee_name[i],salery)"
   ]
  },
  {
   "cell_type": "code",
   "execution_count": 28,
   "metadata": {},
   "outputs": [
    {
     "name": "stdout",
     "output_type": "stream",
     "text": [
      "008 Dave 340.0\n"
     ]
    }
   ],
   "source": [
    "for i in range (0,8):\n",
    "        if hrs[i]>40:\n",
    "            ot=hrs[i]-40\n",
    "            otpay=ot*1.5*employee_payrate[i]\n",
    "            salery=40*employee_payrate[i]+otpay\n",
    "        elif hrs[i]<40:\n",
    "             salery=hrs[i]*employee_payrate[i] \n",
    "print(employee_id[i],employee_name[i],salery)"
   ]
  },
  {
   "cell_type": "code",
   "execution_count": 30,
   "metadata": {},
   "outputs": [
    {
     "name": "stdout",
     "output_type": "stream",
     "text": [
      "007 Ken 1440.0\n"
     ]
    }
   ],
   "source": [
    "for i in range (0,7):\n",
    "        if hrs[i]>40:\n",
    "            ot=hrs[i]-40\n",
    "            otpay=ot*1.5*employee_payrate[i]\n",
    "            salery=40*employee_payrate[i]+otpay\n",
    "        elif hrs[i]<40:\n",
    "             salery=hrs[i]*employee_payrate[i] \n",
    "print(employee_id[i],employee_name[i],salery)"
   ]
  },
  {
   "cell_type": "code",
   "execution_count": 31,
   "metadata": {},
   "outputs": [
    {
     "name": "stdout",
     "output_type": "stream",
     "text": [
      "006 Sue 1377.5\n"
     ]
    }
   ],
   "source": [
    "for i in range (0,6):\n",
    "        if hrs[i]>40:\n",
    "            ot=hrs[i]-40\n",
    "            otpay=ot*1.5*employee_payrate[i]\n",
    "            salery=40*employee_payrate[i]+otpay\n",
    "        elif hrs[i]<40:\n",
    "             salery=hrs[i]*employee_payrate[i] \n",
    "print(employee_id[i],employee_name[i],salery)"
   ]
  },
  {
   "cell_type": "code",
   "execution_count": 32,
   "metadata": {},
   "outputs": [
    {
     "name": "stdout",
     "output_type": "stream",
     "text": [
      "005 Jen 561.0\n"
     ]
    }
   ],
   "source": [
    "for i in range (0,5):\n",
    "        if hrs[i]>40:\n",
    "            ot=hrs[i]-40\n",
    "            otpay=ot*1.5*employee_payrate[i]\n",
    "            salery=40*employee_payrate[i]+otpay\n",
    "        elif hrs[i]<40:\n",
    "             salery=hrs[i]*employee_payrate[i] \n",
    "print(employee_id[i],employee_name[i],salery)"
   ]
  },
  {
   "cell_type": "code",
   "execution_count": 34,
   "metadata": {},
   "outputs": [
    {
     "name": "stdout",
     "output_type": "stream",
     "text": [
      "004 Mel 3139.0\n"
     ]
    }
   ],
   "source": [
    "for i in range (0,4):\n",
    "        if hrs[i]>40:\n",
    "            ot=hrs[i]-40\n",
    "            otpay=ot*1.5*employee_payrate[i]\n",
    "            salery=40*employee_payrate[i]+otpay\n",
    "        elif hrs[i]<40:\n",
    "             salery=hrs[i]*employee_payrate[i] \n",
    "print(employee_id[i],employee_name[i],salery)"
   ]
  },
  {
   "cell_type": "code",
   "execution_count": 35,
   "metadata": {},
   "outputs": [
    {
     "name": "stdout",
     "output_type": "stream",
     "text": [
      "003 Bob 140.0\n"
     ]
    }
   ],
   "source": [
    "for i in range (0,3):\n",
    "        if hrs[i]>40:\n",
    "            ot=hrs[i]-40\n",
    "            otpay=ot*1.5*employee_payrate[i]\n",
    "            salery=40*employee_payrate[i]+otpay\n",
    "        elif hrs[i]<40:\n",
    "             salery=hrs[i]*employee_payrate[i] \n",
    "print(employee_id[i],employee_name[i],salery)"
   ]
  },
  {
   "cell_type": "code",
   "execution_count": 36,
   "metadata": {},
   "outputs": [
    {
     "name": "stdout",
     "output_type": "stream",
     "text": [
      "002 John 550.0\n"
     ]
    }
   ],
   "source": [
    "for i in range (0,2):\n",
    "        if hrs[i]>40:\n",
    "            ot=hrs[i]-40\n",
    "            otpay=ot*1.5*employee_payrate[i]\n",
    "            salery=40*employee_payrate[i]+otpay\n",
    "        elif hrs[i]<40:\n",
    "             salery=hrs[i]*employee_payrate[i] \n",
    "print(employee_id[i],employee_name[i],salery)"
   ]
  },
  {
   "cell_type": "code",
   "execution_count": 37,
   "metadata": {},
   "outputs": [
    {
     "name": "stdout",
     "output_type": "stream",
     "text": [
      "001 Mary 550.0\n"
     ]
    }
   ],
   "source": [
    "for i in range (0,1):\n",
    "        if hrs[i]>40:\n",
    "            ot=hrs[i]-40\n",
    "            otpay=ot*1.5*employee_payrate[i]\n",
    "            salery=40*employee_payrate[i]+otpay\n",
    "        elif hrs[i]<40:\n",
    "             salery=hrs[i]*employee_payrate[i] \n",
    "print(employee_id[i],employee_name[i],salery)"
   ]
  },
  {
   "cell_type": "code",
   "execution_count": null,
   "metadata": {},
   "outputs": [],
   "source": []
  }
 ],
 "metadata": {
  "kernelspec": {
   "display_name": "Python 3",
   "language": "python",
   "name": "python3"
  },
  "language_info": {
   "codemirror_mode": {
    "name": "ipython",
    "version": 3
   },
   "file_extension": ".py",
   "mimetype": "text/x-python",
   "name": "python",
   "nbconvert_exporter": "python",
   "pygments_lexer": "ipython3",
   "version": "3.7.3"
  }
 },
 "nbformat": 4,
 "nbformat_minor": 2
}
