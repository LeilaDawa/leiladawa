{
 "cells": [
  {
   "cell_type": "code",
   "execution_count": 3,
   "metadata": {},
   "outputs": [
    {
     "name": "stdout",
     "output_type": "stream",
     "text": [
      "Good day\n",
      "what is your problem ?\n",
      "life\n",
      " My problem is life why?\n",
      " My problem is life why?yes\n",
      "yes\n",
      " My problem is life why?quit\n"
     ]
    }
   ],
   "source": [
    "# Eliza is a therapist program that interacts with the user\n",
    "print(\"Good day\")\n",
    "\n",
    "question = \"what is your problem ?\" \n",
    "print(question)\n",
    "response = \" My problem is \" + input() + \" why?\"\n",
    "print(response)\n",
    "\n",
    "active = True\n",
    "while active:\n",
    "    response_2 = input(response)\n",
    "    if response_2 == 'quit':\n",
    "        active= False\n",
    "    else:\n",
    "        print(response_2)\n"
   ]
  },
  {
   "cell_type": "code",
   "execution_count": null,
   "metadata": {},
   "outputs": [],
   "source": []
  }
 ],
 "metadata": {
  "kernelspec": {
   "display_name": "Python 3",
   "language": "python",
   "name": "python3"
  },
  "language_info": {
   "codemirror_mode": {
    "name": "ipython",
    "version": 3
   },
   "file_extension": ".py",
   "mimetype": "text/x-python",
   "name": "python",
   "nbconvert_exporter": "python",
   "pygments_lexer": "ipython3",
   "version": "3.7.3"
  }
 },
 "nbformat": 4,
 "nbformat_minor": 2
}
