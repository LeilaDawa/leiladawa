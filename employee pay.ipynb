{
 "cells": [
  {
   "cell_type": "markdown",
   "metadata": {},
   "source": [
    "# Employee Pay : OT calculation"
   ]
  },
  {
   "cell_type": "code",
   "execution_count": null,
   "metadata": {},
   "outputs": [],
   "source": [
    "\n",
    "# employee pay \n",
    "employee_id = ['001','002','003','004', '006','007','008','009','010']\n",
    "employee = ['mary','john','bob','mel','jen','sue','ken','dave','beth','ray']\n",
    "\n",
    "employee_id = employee\n",
    "employee_id == employee\n",
    "#the following will show the employee, the hours worked and how much they make \n",
    "employee_payrate = [15,22,35,43,17,29,40,20,37,16.5]\n",
    "hrs = [40,25,4,62,33,45,36,17,37,80]\n",
    "value = hrs(input())\n",
    "if value in hrs < 40:\n",
    "    othr = 0\n",
    "\n",
    "elif hrs > 40:\n",
    "\n",
    "    othr = (hrs - 40) * employee_payrate * 1.5 \n",
    "    print(Othr)\n",
    "else :\n",
    "\n",
    "    othr = False\n",
    "\n",
    "\n",
    "if hrs <= 40:\n",
    "\n",
    "    grossPay = employee_payrate * hrs \n",
    "    print(\"regular\")\n",
    "\n",
    "\n",
    "elif hours > 40 :\n",
    "\n",
    "    grossPay = othr + employee_payrate * hrs\n",
    "\n",
    "\n",
    "else :\n",
    "\n",
    "    print (\"Please type a number.\")\n"
   ]
  },
  {
   "cell_type": "code",
   "execution_count": null,
   "metadata": {},
   "outputs": [],
   "source": []
  },
  {
   "cell_type": "code",
   "execution_count": null,
   "metadata": {},
   "outputs": [],
   "source": []
  },
  {
   "cell_type": "code",
   "execution_count": null,
   "metadata": {},
   "outputs": [],
   "source": []
  }
 ],
 "metadata": {
  "kernelspec": {
   "display_name": "Python 3",
   "language": "python",
   "name": "python3"
  }
 },
 "nbformat": 4,
 "nbformat_minor": 2
}
